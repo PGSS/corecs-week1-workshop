{
 "cells": [
  {
   "cell_type": "markdown",
   "metadata": {},
   "source": [
    "# Part 1: Hello World!\n",
    "\n",
    "In this section, we demonstrate the Python \"Hello World!\" program.\n",
    "\n",
    "\n",
    "## The History of Hello World\n",
    "\n",
    "Hello World programs are a benchmark for any programming language. Python has one of the simplest \"Hello World\" programs, at just 1 word besides the \"Hello World\" string and a few bits of syntax. Even Java, another very popular, well-maintained, and amazing programming language has a vastly more complicated Hello World program, see: [View Java and other languages' Hello World programs.](https://rosettacode.org/wiki/Hello_world/Text#Java)\n",
    "\n",
    "A Hello World program certainly does not tell the whole story of a programming language, but it is a great place to start!"
   ]
  },
  {
   "cell_type": "markdown",
   "metadata": {},
   "source": [
    "## Python's Hello World (a one-liner)"
   ]
  },
  {
   "cell_type": "code",
   "execution_count": null,
   "metadata": {},
   "outputs": [],
   "source": [
    "print(\"Hello World!\")"
   ]
  },
  {
   "cell_type": "markdown",
   "metadata": {},
   "source": [
    "Please run the snippet of code above (click on it and then click the \"Run\" button further above).\n",
    "\n",
    "Please let your instructor know if you have difficulty getting the \"Hello World!\" to pop up under the code!\n",
    "\n",
    "I will explain each letter and symbol in the code above:\n",
    "\n",
    "* `print` --> this is a built-in **function** that exists in every Python program. It prints a **string**, which is a group of characters encapsulated between double quotes.\n",
    "\n",
    "* `(             )` --> parentheses separate the name of the function from the **parameters** given to the function.\n",
    "\n",
    "* ` \"Hello World!\"` --> this is the first and only **parameter** to `print`. It's what will appear as output."
   ]
  },
  {
   "cell_type": "markdown",
   "metadata": {},
   "source": [
    "So there's Python's Hello World. It is one of the simplest programs that can be created and run so it can tell a lot about the minimum syntax (parentheses, parameters, etc.) needed in a programming language.\n",
    "\n",
    "Next, we will look at a program that calculates something, specifically, the Fibonacci sequence."
   ]
  },
  {
   "cell_type": "code",
   "execution_count": null,
   "metadata": {},
   "outputs": [],
   "source": []
  }
 ],
 "metadata": {
  "kernelspec": {
   "display_name": "Python 3",
   "language": "python",
   "name": "python3"
  },
  "language_info": {
   "codemirror_mode": {
    "name": "ipython",
    "version": 3
   },
   "file_extension": ".py",
   "mimetype": "text/x-python",
   "name": "python",
   "nbconvert_exporter": "python",
   "pygments_lexer": "ipython3",
   "version": "3.7.10"
  }
 },
 "nbformat": 4,
 "nbformat_minor": 4
}
