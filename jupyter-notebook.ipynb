{
 "cells": [
  {
   "cell_type": "markdown",
   "metadata": {},
   "source": [
    "# Part 1: Hello World!\n",
    "\n",
    "In this section, we demonstrate the Python \"Hello World!\" program.\n",
    "\n",
    "\n",
    "## The History of Hello World\n",
    "\n",
    "Hello World programs are a benchmark for any programming language. Python has one of the simplest \"Hello World\" programs, at just 1 word besides the \"Hello World\" string and a few bits of syntax. Even Java, another very popular, well-maintained, and amazing programming language has a vastly more complicated Hello World program, see: [View Java and other languages' Hello World programs.](https://rosettacode.org/wiki/Hello_world/Text#Java)\n",
    "\n",
    "A Hello World program certainly does not tell the whole story of a programming language, but it is a great place to start!"
   ]
  },
  {
   "cell_type": "markdown",
   "metadata": {},
   "source": [
    "## Python's Hello World (a one-liner)"
   ]
  },
  {
   "cell_type": "code",
   "execution_count": null,
   "metadata": {},
   "outputs": [],
   "source": [
    "print(\"Hello World!\")"
   ]
  },
  {
   "cell_type": "markdown",
   "metadata": {},
   "source": [
    "Please run the snippet of code above (click on it and then click the \"Run\" button further above).\n",
    "\n",
    "Please let your instructor know if you have difficulty getting the \"Hello World!\" to pop up under the code!\n",
    "\n",
    "I will explain each letter and symbol in the code above:\n",
    "\n",
    "* `print` --> this is a built-in **function** that exists in every Python program. It prints a **string**, which is a group of characters encapsulated between double quotes.\n",
    "\n",
    "* `(             )` --> parentheses separate the name of the function from the **parameters** given to the function.\n",
    "\n",
    "* ` \"Hello World!\"` --> this is the first and only **parameter** to `print`. It's what will appear as output."
   ]
  },
  {
   "cell_type": "markdown",
   "metadata": {},
   "source": [
    "So there's Python's Hello World. It is one of the simplest programs that can be created and run so it can tell a lot about the minimum syntax (parentheses, parameters, etc.) needed in a programming language.\n",
    "\n",
    "Next, we will look at a program that calculates something, specifically, the Fibonacci sequence."
   ]
  },
  {
   "cell_type": "markdown",
   "metadata": {},
   "source": [
    "# Part 2: Fibonacci\n",
    "\n",
    "We're going to write code that can calculate any number of the Fibonacci sequence, a prospect that gets difficult very quickly, manually. But first...\n",
    "\n",
    "## Some Programming Strategy\n",
    "\n",
    "To solve any problem in programming, it is *always* recommended to start with a simple version of one's true problem, to make sure that one's understanding of the environment and problem itself is basically correct. The end of this Notebook will be a challenge to create a program to calculate a value that *could* be calculated by hand but would take quite a long time to do so. The grand problem is to calculate the 100th value of [the Fibonacci Sequence](https://en.wikipedia.org/wiki/Fibonacci_number), but we will start by illustrating the use of a `for` loop on a simpler problem: the summation of the integers from 1 to 4, inclusive."
   ]
  },
  {
   "cell_type": "markdown",
   "metadata": {},
   "source": [
    "## Summation with a List"
   ]
  },
  {
   "cell_type": "code",
   "execution_count": null,
   "metadata": {},
   "outputs": [],
   "source": [
    "# Everything that looks like this line is a comment.\n",
    "#\n",
    "# Comments are meant to explain code more to humans, \n",
    "# and computers completely ignore them.\n",
    "\n",
    "# Make our sum start at 0.\n",
    "sum = 0\n",
    "\n",
    "for i in [1, 2, 3, 4]:\n",
    "    # the following happens for each number in the list:\n",
    "    #\n",
    "    # sum is now sum + i\n",
    "    sum = sum + i\n",
    "\n",
    "# output expected result and actual result\n",
    "print(\"Expected result: 10\")\n",
    "\n",
    "# \"str\" converts a number to a printable string\n",
    "print(\"Actual result: \" + str(sum))"
   ]
  },
  {
   "cell_type": "markdown",
   "metadata": {},
   "source": [
    "A new programming element in the code above is the List, which is the `[1, 2, 3, 4]` element in the for line. Python is very list-centric and it has many shorthand ways of handling lists. The code above uses `in` to say do the indented lines for each value in the List. "
   ]
  },
  {
   "cell_type": "markdown",
   "metadata": {},
   "source": [
    "## Generating Sequential Numbers\n",
    "\n",
    "Manually typing out `[1, 2, 3, 4]` is better than doing every calculation by hand, but it turns out there is a way to easily generate those numbers..."
   ]
  },
  {
   "cell_type": "code",
   "execution_count": null,
   "metadata": {},
   "outputs": [],
   "source": [
    "for i in range(1, 5):\n",
    "    print(i)"
   ]
  },
  {
   "cell_type": "markdown",
   "metadata": {},
   "source": [
    "The explicit list in the first code snippet can be replaced with a `range(i, e)` function call in the code snippet directly above. For the `range` function, `i` is included in the range and `e` is the first element to be excluded when the range ends. This built-in function can generate long lists for us!"
   ]
  },
  {
   "cell_type": "markdown",
   "metadata": {},
   "source": [
    "The code below replaces the explicit list with one generate from a function:"
   ]
  },
  {
   "cell_type": "code",
   "execution_count": null,
   "metadata": {},
   "outputs": [],
   "source": [
    "# initialize sum to 0\n",
    "sum = 0\n",
    "\n",
    "# do indented code with each value of i in the generated list\n",
    "for i in range(1, 5):\n",
    "    \n",
    "    # sum is now sum + i, this happens 4 times\n",
    "    sum = sum + i\n",
    "\n",
    "# output expected result and actual result\n",
    "print(\"Expected result: 10\")\n",
    "\n",
    "# \"str\" converts a number to a printable string\n",
    "print(\"Actual result: \" + str(sum))"
   ]
  },
  {
   "cell_type": "markdown",
   "metadata": {},
   "source": [
    "Now, we have a way to scale our `for` loops far enough to find the 100th Fibonacci number."
   ]
  },
  {
   "cell_type": "markdown",
   "metadata": {},
   "source": [
    "## Fibonacci Challenge\n",
    "\n",
    "For those who did not read the Fibonacci Sequence Wikipedia article, the Fibonacci Sequence starts with only two numbers, zero and one. Every Fibonacci number after those is the sum of the two before. In Python List form, here's the start of the Fibonacci sequence:"
   ]
  },
  {
   "cell_type": "code",
   "execution_count": null,
   "metadata": {},
   "outputs": [],
   "source": [
    "seq_fib = [0, 1, 1, 2, 3, 5, 8] # ... and it keeps going to countable infinity!"
   ]
  },
  {
   "cell_type": "markdown",
   "metadata": {},
   "source": [
    "With the first through the seventh Fibonacci numbers above, can you calculate the 100th Fibonacci number? It's much like the first code snippet in this Notebook, but your program has to remember more than just one number (in the case of the summation code, `sum` is what needs to be remembered.)"
   ]
  },
  {
   "cell_type": "markdown",
   "metadata": {},
   "source": [
    "Jupyter Notebooks do have some helpful developer (IDE) features. You'll notice when you start writing code a few things:\n",
    "\n",
    "* Jupyter will auto-indent after a `for` line.\n",
    "* Jupyter will highlight parentheses that do have a counterpart in green.\n",
    "  * Viz. opening parentheses that are properly closed...\n",
    "* Jupyter will highlight parentheses that do not have a counterpart in red.\n",
    "* Jupyter will try to help with double quotes, but I don't think this is usually very helpful for me."
   ]
  },
  {
   "cell_type": "markdown",
   "metadata": {},
   "source": [
    "I recommend first copying and pasting the first code snippet in this Notebook into the cell below to begin. Next, consider what needs to be remembered for each loop."
   ]
  },
  {
   "cell_type": "code",
   "execution_count": null,
   "metadata": {},
   "outputs": [],
   "source": [
    "# TODO: paste summation code here\n",
    "# TODO: modify to remember enough to calculate the 100th Fibonacci number\n",
    "# NOTE: it's not hard to look up the 100th Fibonacci number, \n",
    "#       this can be used to see if your program is right!\n",
    "\n",
    "\n",
    "\n",
    "\n",
    "\n",
    "\n"
   ]
  },
  {
   "cell_type": "markdown",
   "metadata": {},
   "source": [
    "If you complete this exercise, try implementing your Fibonacci number generator without a for loop... there is a bit of a hint at the bottom of this section ---v"
   ]
  },
  {
   "cell_type": "markdown",
   "metadata": {},
   "source": [
    ".\n",
    "\n",
    ".\n",
    "\n",
    ".\n",
    "\n",
    ".\n",
    "\n",
    ".\n",
    "\n",
    ".\n",
    "\n",
    ".\n",
    "\n",
    ".\n",
    "\n",
    ".\n",
    "\n",
    ".\n",
    "\n",
    ".\n",
    "\n",
    ".\n",
    "\n",
    ".\n",
    "\n",
    ".\n",
    "\n",
    ".\n",
    "\n",
    ".\n",
    "\n",
    ".\n",
    "\n",
    ".\n",
    "\n",
    ".\n",
    "\n",
    ".\n",
    "\n",
    ".\n",
    "\n",
    ".\n",
    "\n",
    ".\n",
    "\n",
    ".\n",
    "\n",
    ".\n",
    "\n",
    ".\n",
    "\n",
    ".\n",
    "\n",
    ".\n",
    "\n",
    ".\n",
    "\n",
    "Recursion is usually the method for repetition without a for loop!"
   ]
  }
 ],
 "metadata": {
  "kernelspec": {
   "display_name": "Python 3",
   "language": "python",
   "name": "python3"
  },
  "language_info": {
   "codemirror_mode": {
    "name": "ipython",
    "version": 3
   },
   "file_extension": ".py",
   "mimetype": "text/x-python",
   "name": "python",
   "nbconvert_exporter": "python",
   "pygments_lexer": "ipython3",
   "version": "3.7.10"
  }
 },
 "nbformat": 4,
 "nbformat_minor": 4
}
